{
  "nbformat": 4,
  "nbformat_minor": 0,
  "metadata": {
    "colab": {
      "name": "00_tensorflow_fundamentals_exercises.ipynb",
      "provenance": []
    },
    "kernelspec": {
      "name": "python3",
      "display_name": "Python 3"
    },
    "language_info": {
      "name": "python"
    }
  },
  "cells": [
    {
      "cell_type": "markdown",
      "source": [
        "# Exercises"
      ],
      "metadata": {
        "id": "6ntF9Nyuxioy"
      }
    },
    {
      "cell_type": "markdown",
      "source": [
        "## 1. Create a vector, scalar, matrix and tensor with values of your choosing using tf.constant()"
      ],
      "metadata": {
        "id": "becie6zRxsju"
      }
    },
    {
      "cell_type": "code",
      "source": [
        "# Imports\n",
        "import tensorflow as tf\n",
        "import numpy as np"
      ],
      "metadata": {
        "id": "doItxwWOx1rI"
      },
      "execution_count": 2,
      "outputs": []
    },
    {
      "cell_type": "code",
      "source": [
        "# Create values\n",
        "scalar = tf.constant(3)\n",
        "vector = tf.constant([1, 2])\n",
        "matrix = tf.constant([[1, 2],\n",
        "                      [3, 4]])\n",
        "tensor = tf.constant(np.random.random(size=50))\n",
        "scalar, vector, matrix, tensor"
      ],
      "metadata": {
        "colab": {
          "base_uri": "https://localhost:8080/"
        },
        "id": "tIO_K0z3yD89",
        "outputId": "3a74f018-7108-4061-cd68-b2af0fd0794e"
      },
      "execution_count": 4,
      "outputs": [
        {
          "output_type": "execute_result",
          "data": {
            "text/plain": [
              "(<tf.Tensor: shape=(), dtype=int32, numpy=3>,\n",
              " <tf.Tensor: shape=(2,), dtype=int32, numpy=array([1, 2], dtype=int32)>,\n",
              " <tf.Tensor: shape=(2, 2), dtype=int32, numpy=\n",
              " array([[1, 2],\n",
              "        [3, 4]], dtype=int32)>,\n",
              " <tf.Tensor: shape=(50,), dtype=float64, numpy=\n",
              " array([0.27206704, 0.10411592, 0.14081564, 0.93146858, 0.90691601,\n",
              "        0.48043995, 0.05006621, 0.55660317, 0.67346872, 0.29552004,\n",
              "        0.16028247, 0.10253821, 0.86205328, 0.04469307, 0.86394224,\n",
              "        0.14781953, 0.22272567, 0.825571  , 0.98791604, 0.96386657,\n",
              "        0.55855748, 0.44287839, 0.49889448, 0.39767924, 0.76185468,\n",
              "        0.2746856 , 0.59636628, 0.09890846, 0.08952617, 0.04105226,\n",
              "        0.13074706, 0.13090809, 0.37877106, 0.00708217, 0.98446885,\n",
              "        0.26037977, 0.78607811, 0.98990891, 0.08212901, 0.16204303,\n",
              "        0.25774126, 0.7202288 , 0.09546568, 0.30937007, 0.98203567,\n",
              "        0.87459975, 0.45272192, 0.00410526, 0.63258507, 0.02279761])>)"
            ]
          },
          "metadata": {},
          "execution_count": 4
        }
      ]
    },
    {
      "cell_type": "markdown",
      "source": [
        "## 2. Find the shape, rank and size of the tensors you created in 1. "
      ],
      "metadata": {
        "id": "srY2ztkNx8zW"
      }
    },
    {
      "cell_type": "code",
      "source": [
        "scalar.shape, scalar.ndim, tf.size(scalar)"
      ],
      "metadata": {
        "colab": {
          "base_uri": "https://localhost:8080/"
        },
        "id": "-2VI3SHjynlX",
        "outputId": "bc21ce5e-512f-411b-84c3-7112623f36f7"
      },
      "execution_count": 9,
      "outputs": [
        {
          "output_type": "execute_result",
          "data": {
            "text/plain": [
              "(TensorShape([]), 0, <tf.Tensor: shape=(), dtype=int32, numpy=1>)"
            ]
          },
          "metadata": {},
          "execution_count": 9
        }
      ]
    },
    {
      "cell_type": "code",
      "source": [
        "vector.shape, vector.ndim, tf.size(vector)"
      ],
      "metadata": {
        "colab": {
          "base_uri": "https://localhost:8080/"
        },
        "id": "vWzsz8s-yuLi",
        "outputId": "789a76be-0d79-4729-8908-3c5fd3ad72e1"
      },
      "execution_count": 10,
      "outputs": [
        {
          "output_type": "execute_result",
          "data": {
            "text/plain": [
              "(TensorShape([2]), 1, <tf.Tensor: shape=(), dtype=int32, numpy=2>)"
            ]
          },
          "metadata": {},
          "execution_count": 10
        }
      ]
    },
    {
      "cell_type": "code",
      "source": [
        ""
      ],
      "metadata": {
        "id": "448hW9TszZ-E"
      },
      "execution_count": null,
      "outputs": []
    },
    {
      "cell_type": "code",
      "source": [
        "matrix.shape, matrix.ndim, tf.size(matrix)"
      ],
      "metadata": {
        "colab": {
          "base_uri": "https://localhost:8080/"
        },
        "id": "CBusfSeczAcx",
        "outputId": "5c26efe2-8126-4f75-972f-9495c4b43cbb"
      },
      "execution_count": 12,
      "outputs": [
        {
          "output_type": "execute_result",
          "data": {
            "text/plain": [
              "(TensorShape([2, 2]), 2, <tf.Tensor: shape=(), dtype=int32, numpy=4>)"
            ]
          },
          "metadata": {},
          "execution_count": 12
        }
      ]
    },
    {
      "cell_type": "code",
      "source": [
        "tensor.shape, tensor.ndim, tf.size(tensor)"
      ],
      "metadata": {
        "colab": {
          "base_uri": "https://localhost:8080/"
        },
        "id": "DUQBKkp2y67s",
        "outputId": "e75542a5-7b7d-4e5c-fcef-8c11ba6588ac"
      },
      "execution_count": 11,
      "outputs": [
        {
          "output_type": "execute_result",
          "data": {
            "text/plain": [
              "(TensorShape([50]), 1, <tf.Tensor: shape=(), dtype=int32, numpy=50>)"
            ]
          },
          "metadata": {},
          "execution_count": 11
        }
      ]
    },
    {
      "cell_type": "markdown",
      "source": [
        "## 3. Create 2 tensors with random values between 0 and 1 with shape [5, 300]"
      ],
      "metadata": {
        "id": "JYvYfksJy-sU"
      }
    },
    {
      "cell_type": "code",
      "source": [
        "t1 = tf.constant(value=np.random.random(size=1500), shape=[5, 300])\n",
        "t1"
      ],
      "metadata": {
        "colab": {
          "base_uri": "https://localhost:8080/"
        },
        "id": "0tiDf50GzQeV",
        "outputId": "c8f440d3-f269-4853-b2ee-11ee6d374691"
      },
      "execution_count": 22,
      "outputs": [
        {
          "output_type": "execute_result",
          "data": {
            "text/plain": [
              "<tf.Tensor: shape=(5, 300), dtype=float64, numpy=\n",
              "array([[0.73648947, 0.25068335, 0.66075995, ..., 0.25126419, 0.15631105,\n",
              "        0.98072027],\n",
              "       [0.96950929, 0.02610382, 0.39090389, ..., 0.91460655, 0.30235123,\n",
              "        0.47540495],\n",
              "       [0.06933372, 0.79240239, 0.30564182, ..., 0.95940976, 0.9945395 ,\n",
              "        0.28805234],\n",
              "       [0.27012156, 0.41015172, 0.49768206, ..., 0.99255173, 0.21342994,\n",
              "        0.44504157],\n",
              "       [0.91542562, 0.72681432, 0.89765909, ..., 0.50741191, 0.37439033,\n",
              "        0.50901612]])>"
            ]
          },
          "metadata": {},
          "execution_count": 22
        }
      ]
    },
    {
      "cell_type": "code",
      "source": [
        "t2 = tf.constant(value=np.random.random(size=1500), shape=[5, 300])\n",
        "t2"
      ],
      "metadata": {
        "colab": {
          "base_uri": "https://localhost:8080/"
        },
        "id": "2XarHhdg0Xnn",
        "outputId": "5b00377c-2f84-483c-c519-eeac4c641529"
      },
      "execution_count": 20,
      "outputs": [
        {
          "output_type": "execute_result",
          "data": {
            "text/plain": [
              "<tf.Tensor: shape=(5, 300), dtype=float64, numpy=\n",
              "array([[0.19360944, 0.5281249 , 0.06928491, ..., 0.20798906, 0.59639828,\n",
              "        0.75513541],\n",
              "       [0.35756266, 0.01716071, 0.21272551, ..., 0.07043848, 0.57303946,\n",
              "        0.60167435],\n",
              "       [0.3523377 , 0.17394543, 0.15320322, ..., 0.54463234, 0.59412868,\n",
              "        0.67372509],\n",
              "       [0.45303478, 0.91197832, 0.72407639, ..., 0.2551976 , 0.72207904,\n",
              "        0.63315049],\n",
              "       [0.35965386, 0.09034326, 0.51591915, ..., 0.81096698, 0.03838016,\n",
              "        0.7708476 ]])>"
            ]
          },
          "metadata": {},
          "execution_count": 20
        }
      ]
    },
    {
      "cell_type": "markdown",
      "source": [
        "## 4. Multiply the two tensors you created using matrix multiplication"
      ],
      "metadata": {
        "id": "HdIcBupa0gel"
      }
    },
    {
      "cell_type": "code",
      "source": [
        "tf.matmul(t1, tf.transpose(t2))"
      ],
      "metadata": {
        "colab": {
          "base_uri": "https://localhost:8080/"
        },
        "id": "flhtwhP00t2e",
        "outputId": "933932cd-6478-457f-b9fc-43992ac9dec6"
      },
      "execution_count": 28,
      "outputs": [
        {
          "output_type": "execute_result",
          "data": {
            "text/plain": [
              "<tf.Tensor: shape=(5, 5), dtype=float64, numpy=\n",
              "array([[81.59563764, 78.47526259, 80.37877549, 76.64890425, 79.87358855],\n",
              "       [80.77161457, 75.66856553, 76.63893694, 74.64157822, 80.33962572],\n",
              "       [86.53699818, 80.97042032, 86.17675834, 78.23292954, 82.64307179],\n",
              "       [78.92695632, 77.89194313, 80.79005179, 74.57013788, 79.05376563],\n",
              "       [81.03230448, 78.64504796, 77.65747308, 75.47843155, 75.8110577 ]])>"
            ]
          },
          "metadata": {},
          "execution_count": 28
        }
      ]
    },
    {
      "cell_type": "markdown",
      "source": [
        "## 5. Multiply the two tensors you created using dot product"
      ],
      "metadata": {
        "id": "OzGlbWko0vCa"
      }
    },
    {
      "cell_type": "code",
      "source": [
        "tf.tensordot(t1, tf.transpose(t2), axes=1)"
      ],
      "metadata": {
        "colab": {
          "base_uri": "https://localhost:8080/"
        },
        "id": "SCEkyzH_1Uqt",
        "outputId": "2f0e2540-7fc2-48ba-ef6f-735776463685"
      },
      "execution_count": 30,
      "outputs": [
        {
          "output_type": "execute_result",
          "data": {
            "text/plain": [
              "<tf.Tensor: shape=(5, 5), dtype=float64, numpy=\n",
              "array([[81.59563764, 78.47526259, 80.37877549, 76.64890425, 79.87358855],\n",
              "       [80.77161457, 75.66856553, 76.63893694, 74.64157822, 80.33962572],\n",
              "       [86.53699818, 80.97042032, 86.17675834, 78.23292954, 82.64307179],\n",
              "       [78.92695632, 77.89194313, 80.79005179, 74.57013788, 79.05376563],\n",
              "       [81.03230448, 78.64504796, 77.65747308, 75.47843155, 75.8110577 ]])>"
            ]
          },
          "metadata": {},
          "execution_count": 30
        }
      ]
    },
    {
      "cell_type": "markdown",
      "source": [
        "## 6. Create a tensor with random values between 0 and 1 with shape [224, 224, 3]."
      ],
      "metadata": {
        "id": "x1UR1lD61cMS"
      }
    },
    {
      "cell_type": "code",
      "source": [
        "t3 = tf.constant(np.random.random(size=150528), shape=[224, 224, 3])\n",
        "t3"
      ],
      "metadata": {
        "colab": {
          "base_uri": "https://localhost:8080/"
        },
        "id": "JWYS44Xj1qKu",
        "outputId": "22b6b2bd-96c9-4641-b651-8e283ba14590"
      },
      "execution_count": 31,
      "outputs": [
        {
          "output_type": "execute_result",
          "data": {
            "text/plain": [
              "<tf.Tensor: shape=(224, 224, 3), dtype=float64, numpy=\n",
              "array([[[0.77872496, 0.28884532, 0.34831453],\n",
              "        [0.38906093, 0.1596622 , 0.25883319],\n",
              "        [0.48808099, 0.04303483, 0.6526702 ],\n",
              "        ...,\n",
              "        [0.23200718, 0.66341881, 0.8506651 ],\n",
              "        [0.43001156, 0.57236786, 0.6920197 ],\n",
              "        [0.49121047, 0.24743613, 0.19385103]],\n",
              "\n",
              "       [[0.84756764, 0.8126201 , 0.97785407],\n",
              "        [0.26320304, 0.03664559, 0.70649506],\n",
              "        [0.57661188, 0.86325897, 0.61192327],\n",
              "        ...,\n",
              "        [0.77485051, 0.754348  , 0.9185109 ],\n",
              "        [0.38773963, 0.1463581 , 0.29258257],\n",
              "        [0.37071823, 0.11464138, 0.72118043]],\n",
              "\n",
              "       [[0.11856434, 0.98664312, 0.73283055],\n",
              "        [0.97492783, 0.77708531, 0.82987592],\n",
              "        [0.80961979, 0.34580421, 0.97320555],\n",
              "        ...,\n",
              "        [0.73614578, 0.9169964 , 0.84254675],\n",
              "        [0.65818338, 0.19902617, 0.97853932],\n",
              "        [0.7138829 , 0.4737798 , 0.44564614]],\n",
              "\n",
              "       ...,\n",
              "\n",
              "       [[0.28603949, 0.03537479, 0.51643091],\n",
              "        [0.81149721, 0.47588015, 0.92043159],\n",
              "        [0.2979014 , 0.18487063, 0.33282921],\n",
              "        ...,\n",
              "        [0.27839891, 0.24606919, 0.31500203],\n",
              "        [0.47953547, 0.07318991, 0.45197725],\n",
              "        [0.74227262, 0.36326853, 0.24124494]],\n",
              "\n",
              "       [[0.88864132, 0.87953314, 0.09809338],\n",
              "        [0.83991141, 0.72527595, 0.99041177],\n",
              "        [0.75778075, 0.2592104 , 0.89900832],\n",
              "        ...,\n",
              "        [0.78607147, 0.17374994, 0.64398162],\n",
              "        [0.64884777, 0.40830416, 0.08845122],\n",
              "        [0.21827979, 0.58742824, 0.51322472]],\n",
              "\n",
              "       [[0.46426952, 0.53890479, 0.51061408],\n",
              "        [0.72325732, 0.73227381, 0.16158116],\n",
              "        [0.4621916 , 0.24938457, 0.84808738],\n",
              "        ...,\n",
              "        [0.51301536, 0.98807006, 0.35032979],\n",
              "        [0.38914378, 0.26812929, 0.68934007],\n",
              "        [0.91961459, 0.54197478, 0.68580202]]])>"
            ]
          },
          "metadata": {},
          "execution_count": 31
        }
      ]
    },
    {
      "cell_type": "markdown",
      "source": [
        "## 7. Find the min and max values of the tensor you created in 6."
      ],
      "metadata": {
        "id": "255caPF313Ux"
      }
    },
    {
      "cell_type": "code",
      "source": [
        "tf.reduce_max(t3)"
      ],
      "metadata": {
        "colab": {
          "base_uri": "https://localhost:8080/"
        },
        "id": "DMLj1dIl1745",
        "outputId": "182e2acd-b741-4223-cbaa-a788ebe196aa"
      },
      "execution_count": 33,
      "outputs": [
        {
          "output_type": "execute_result",
          "data": {
            "text/plain": [
              "<tf.Tensor: shape=(), dtype=float64, numpy=0.9999975883042053>"
            ]
          },
          "metadata": {},
          "execution_count": 33
        }
      ]
    },
    {
      "cell_type": "code",
      "source": [
        "tf.reduce_min(t3)"
      ],
      "metadata": {
        "colab": {
          "base_uri": "https://localhost:8080/"
        },
        "id": "h6YIYQr_1-Lx",
        "outputId": "1d65c82a-e26a-4cbb-8f92-796335697ac7"
      },
      "execution_count": 34,
      "outputs": [
        {
          "output_type": "execute_result",
          "data": {
            "text/plain": [
              "<tf.Tensor: shape=(), dtype=float64, numpy=5.720777317974601e-06>"
            ]
          },
          "metadata": {},
          "execution_count": 34
        }
      ]
    },
    {
      "cell_type": "markdown",
      "source": [
        "## 8. Created a tensor with random values of shape [1, 224, 224, 3] then squeeze it to change the shape to [224, 224, 3]."
      ],
      "metadata": {
        "id": "icEHbbtA2Jaf"
      }
    },
    {
      "cell_type": "code",
      "source": [
        "t4 = tf.constant(np.random.random(size=150528), shape=[1, 224, 224, 3])\n",
        "t4"
      ],
      "metadata": {
        "colab": {
          "base_uri": "https://localhost:8080/"
        },
        "id": "wokSmCd92Suy",
        "outputId": "d189634a-9d07-482b-93cf-5143cf468609"
      },
      "execution_count": 36,
      "outputs": [
        {
          "output_type": "execute_result",
          "data": {
            "text/plain": [
              "<tf.Tensor: shape=(1, 224, 224, 3), dtype=float64, numpy=\n",
              "array([[[[0.49834138, 0.998955  , 0.11939424],\n",
              "         [0.81097368, 0.29030459, 0.28439257],\n",
              "         [0.4396371 , 0.471556  , 0.62474628],\n",
              "         ...,\n",
              "         [0.94691576, 0.65759733, 0.58378146],\n",
              "         [0.65154854, 0.66802436, 0.03408876],\n",
              "         [0.96438534, 0.7665123 , 0.16389252]],\n",
              "\n",
              "        [[0.88397555, 0.195361  , 0.89312951],\n",
              "         [0.4878915 , 0.4470219 , 0.43626604],\n",
              "         [0.89257875, 0.41298086, 0.80872525],\n",
              "         ...,\n",
              "         [0.17817951, 0.15872377, 0.79421703],\n",
              "         [0.33105671, 0.83630052, 0.93619455],\n",
              "         [0.63084853, 0.80678245, 0.120445  ]],\n",
              "\n",
              "        [[0.44567817, 0.15695307, 0.66904162],\n",
              "         [0.65051353, 0.81024939, 0.79542675],\n",
              "         [0.01182546, 0.54783557, 0.26616563],\n",
              "         ...,\n",
              "         [0.4340995 , 0.86955217, 0.36028708],\n",
              "         [0.79953371, 0.60578033, 0.79674685],\n",
              "         [0.48990977, 0.10431125, 0.03307492]],\n",
              "\n",
              "        ...,\n",
              "\n",
              "        [[0.33124268, 0.37594689, 0.07037661],\n",
              "         [0.89984398, 0.96979846, 0.77240397],\n",
              "         [0.74040141, 0.06078349, 0.30788995],\n",
              "         ...,\n",
              "         [0.80630192, 0.8503699 , 0.73629384],\n",
              "         [0.35356595, 0.34591   , 0.97584791],\n",
              "         [0.36318617, 0.79575696, 0.06894711]],\n",
              "\n",
              "        [[0.3223446 , 0.48701749, 0.9436859 ],\n",
              "         [0.92324159, 0.08507561, 0.41597147],\n",
              "         [0.36525891, 0.04419983, 0.24129215],\n",
              "         ...,\n",
              "         [0.69443511, 0.49521454, 0.64991352],\n",
              "         [0.60583873, 0.55607785, 0.77958119],\n",
              "         [0.2222271 , 0.19894201, 0.94250702]],\n",
              "\n",
              "        [[0.98554039, 0.5528424 , 0.67742987],\n",
              "         [0.77385597, 0.66360146, 0.78830689],\n",
              "         [0.36627215, 0.80652826, 0.55963088],\n",
              "         ...,\n",
              "         [0.57892292, 0.23804174, 0.52272559],\n",
              "         [0.11395478, 0.12812876, 0.81200458],\n",
              "         [0.17425033, 0.73735292, 0.66123654]]]])>"
            ]
          },
          "metadata": {},
          "execution_count": 36
        }
      ]
    },
    {
      "cell_type": "code",
      "source": [
        "t4_squeezed = tf.squeeze(t4)\n",
        "t4_squeezed"
      ],
      "metadata": {
        "colab": {
          "base_uri": "https://localhost:8080/"
        },
        "id": "pgwBRC8I2bJ7",
        "outputId": "8e0d61c0-682b-4cbf-8131-76f4954d73f7"
      },
      "execution_count": 38,
      "outputs": [
        {
          "output_type": "execute_result",
          "data": {
            "text/plain": [
              "<tf.Tensor: shape=(224, 224, 3), dtype=float64, numpy=\n",
              "array([[[0.49834138, 0.998955  , 0.11939424],\n",
              "        [0.81097368, 0.29030459, 0.28439257],\n",
              "        [0.4396371 , 0.471556  , 0.62474628],\n",
              "        ...,\n",
              "        [0.94691576, 0.65759733, 0.58378146],\n",
              "        [0.65154854, 0.66802436, 0.03408876],\n",
              "        [0.96438534, 0.7665123 , 0.16389252]],\n",
              "\n",
              "       [[0.88397555, 0.195361  , 0.89312951],\n",
              "        [0.4878915 , 0.4470219 , 0.43626604],\n",
              "        [0.89257875, 0.41298086, 0.80872525],\n",
              "        ...,\n",
              "        [0.17817951, 0.15872377, 0.79421703],\n",
              "        [0.33105671, 0.83630052, 0.93619455],\n",
              "        [0.63084853, 0.80678245, 0.120445  ]],\n",
              "\n",
              "       [[0.44567817, 0.15695307, 0.66904162],\n",
              "        [0.65051353, 0.81024939, 0.79542675],\n",
              "        [0.01182546, 0.54783557, 0.26616563],\n",
              "        ...,\n",
              "        [0.4340995 , 0.86955217, 0.36028708],\n",
              "        [0.79953371, 0.60578033, 0.79674685],\n",
              "        [0.48990977, 0.10431125, 0.03307492]],\n",
              "\n",
              "       ...,\n",
              "\n",
              "       [[0.33124268, 0.37594689, 0.07037661],\n",
              "        [0.89984398, 0.96979846, 0.77240397],\n",
              "        [0.74040141, 0.06078349, 0.30788995],\n",
              "        ...,\n",
              "        [0.80630192, 0.8503699 , 0.73629384],\n",
              "        [0.35356595, 0.34591   , 0.97584791],\n",
              "        [0.36318617, 0.79575696, 0.06894711]],\n",
              "\n",
              "       [[0.3223446 , 0.48701749, 0.9436859 ],\n",
              "        [0.92324159, 0.08507561, 0.41597147],\n",
              "        [0.36525891, 0.04419983, 0.24129215],\n",
              "        ...,\n",
              "        [0.69443511, 0.49521454, 0.64991352],\n",
              "        [0.60583873, 0.55607785, 0.77958119],\n",
              "        [0.2222271 , 0.19894201, 0.94250702]],\n",
              "\n",
              "       [[0.98554039, 0.5528424 , 0.67742987],\n",
              "        [0.77385597, 0.66360146, 0.78830689],\n",
              "        [0.36627215, 0.80652826, 0.55963088],\n",
              "        ...,\n",
              "        [0.57892292, 0.23804174, 0.52272559],\n",
              "        [0.11395478, 0.12812876, 0.81200458],\n",
              "        [0.17425033, 0.73735292, 0.66123654]]])>"
            ]
          },
          "metadata": {},
          "execution_count": 38
        }
      ]
    },
    {
      "cell_type": "markdown",
      "source": [
        "## 9. Create a tensor with shape [10] using your own choice of values, then find the index which has the maximum value."
      ],
      "metadata": {
        "id": "-VgUGatq2lIa"
      }
    },
    {
      "cell_type": "code",
      "source": [
        "t5 = tf.constant(np.random.random(size=5), shape=[5])\n",
        "t5"
      ],
      "metadata": {
        "colab": {
          "base_uri": "https://localhost:8080/"
        },
        "id": "R-KkyBpn2uDw",
        "outputId": "4f98bbdf-06f0-4611-ce1d-4720d84ed6ae"
      },
      "execution_count": 40,
      "outputs": [
        {
          "output_type": "execute_result",
          "data": {
            "text/plain": [
              "<tf.Tensor: shape=(5,), dtype=float64, numpy=array([0.83882851, 0.86100618, 0.42000351, 0.46067794, 0.808897  ])>"
            ]
          },
          "metadata": {},
          "execution_count": 40
        }
      ]
    },
    {
      "cell_type": "code",
      "source": [
        "tf.argmax(t5)"
      ],
      "metadata": {
        "colab": {
          "base_uri": "https://localhost:8080/"
        },
        "id": "O9_1vBrh2zLF",
        "outputId": "1733a9f4-cdfc-4280-81fd-5f1456616064"
      },
      "execution_count": 41,
      "outputs": [
        {
          "output_type": "execute_result",
          "data": {
            "text/plain": [
              "<tf.Tensor: shape=(), dtype=int64, numpy=1>"
            ]
          },
          "metadata": {},
          "execution_count": 41
        }
      ]
    },
    {
      "cell_type": "markdown",
      "source": [
        "## 10. One-hot encode the tensor you created in 9."
      ],
      "metadata": {
        "id": "Yx7EjwN022tf"
      }
    },
    {
      "cell_type": "code",
      "source": [
        "# One hot encoding the tensor of shape 10 \n",
        "tf.one_hot(tf.cast(t5 , dtype=tf.int32) , depth = 5)"
      ],
      "metadata": {
        "colab": {
          "base_uri": "https://localhost:8080/"
        },
        "id": "73H_WD4K28vb",
        "outputId": "85d44ffd-70ad-4895-b804-251044fa942a"
      },
      "execution_count": 43,
      "outputs": [
        {
          "output_type": "execute_result",
          "data": {
            "text/plain": [
              "<tf.Tensor: shape=(5, 5), dtype=float32, numpy=\n",
              "array([[1., 0., 0., 0., 0.],\n",
              "       [1., 0., 0., 0., 0.],\n",
              "       [1., 0., 0., 0., 0.],\n",
              "       [1., 0., 0., 0., 0.],\n",
              "       [1., 0., 0., 0., 0.]], dtype=float32)>"
            ]
          },
          "metadata": {},
          "execution_count": 43
        }
      ]
    },
    {
      "cell_type": "code",
      "source": [
        ""
      ],
      "metadata": {
        "id": "lx3eXfIA3D1x"
      },
      "execution_count": null,
      "outputs": []
    }
  ]
}